{
  "nbformat": 4,
  "nbformat_minor": 0,
  "metadata": {
    "colab": {
      "provenance": [],
      "gpuType": "T4"
    },
    "kernelspec": {
      "name": "python3",
      "display_name": "Python 3"
    },
    "language_info": {
      "name": "python"
    },
    "accelerator": "GPU"
  },
  "cells": [
    {
      "cell_type": "markdown",
      "source": [
        "UNZIPPING THE DATASET"
      ],
      "metadata": {
        "id": "z8Y37mJ0NjJJ"
      }
    },
    {
      "cell_type": "code",
      "execution_count": 11,
      "metadata": {
        "id": "9fj6UIQb7xjb",
        "colab": {
          "base_uri": "https://localhost:8080/"
        },
        "outputId": "8de31d7a-0afe-4a09-8086-bed60172d27c"
      },
      "outputs": [
        {
          "output_type": "stream",
          "name": "stdout",
          "text": [
            "Archive:  /content/drive/MyDrive/archive (2).zip\n",
            "replace test_data/test_data/blasti/DSC_6396.jpg? [y]es, [n]o, [A]ll, [N]one, [r]ename: A\n",
            "  inflating: test_data/test_data/blasti/DSC_6396.jpg  \n",
            "  inflating: test_data/test_data/blasti/DSC_6397.jpg  \n",
            "  inflating: test_data/test_data/blasti/DSC_6398.jpg  \n",
            "  inflating: test_data/test_data/blasti/DSC_6399.jpg  \n",
            "  inflating: test_data/test_data/blasti/DSC_6400.jpg  \n",
            "  inflating: test_data/test_data/blasti/DSC_6401.jpg  \n",
            "  inflating: test_data/test_data/blasti/DSC_6402.jpg  \n",
            "  inflating: test_data/test_data/blasti/DSC_6403.jpg  \n",
            "  inflating: test_data/test_data/blasti/DSC_6405.jpg  \n",
            "  inflating: test_data/test_data/blasti/DSC_6406.jpg  \n",
            "  inflating: test_data/test_data/blasti/DSC_6407.jpg  \n",
            "  inflating: test_data/test_data/blasti/DSC_6408.jpg  \n",
            "  inflating: test_data/test_data/blasti/DSC_6409.jpg  \n",
            "  inflating: test_data/test_data/blasti/DSC_6410.jpg  \n",
            "  inflating: test_data/test_data/blasti/DSC_6411.jpg  \n",
            "  inflating: test_data/test_data/bonegl/DSC_4587.jpg  \n",
            "  inflating: test_data/test_data/bonegl/DSC_4588.jpg  \n",
            "  inflating: test_data/test_data/bonegl/DSC_4589.jpg  \n",
            "  inflating: test_data/test_data/bonegl/DSC_4590.jpg  \n",
            "  inflating: test_data/test_data/bonegl/DSC_4591.jpg  \n",
            "  inflating: test_data/test_data/bonegl/DSC_4592.jpg  \n",
            "  inflating: test_data/test_data/bonegl/DSC_4593.jpg  \n",
            "  inflating: test_data/test_data/brhkyt/D72_0473.jpg  \n",
            "  inflating: test_data/test_data/brhkyt/D72_0474.jpg  \n",
            "  inflating: test_data/test_data/brhkyt/D72_0475.jpg  \n",
            "  inflating: test_data/test_data/brhkyt/D72_0477.jpg  \n",
            "  inflating: test_data/test_data/brhkyt/D72_0478.jpg  \n",
            "  inflating: test_data/test_data/brhkyt/D72_0479.jpg  \n",
            "  inflating: test_data/test_data/cbrtsh/_D32_10310.jpg  \n",
            "  inflating: test_data/test_data/cbrtsh/_D32_10311.jpg  \n",
            "  inflating: test_data/test_data/cbrtsh/_D32_10312.jpg  \n",
            "  inflating: test_data/test_data/cbrtsh/_D32_10313.jpg  \n",
            "  inflating: test_data/test_data/cbrtsh/_D32_10314.jpg  \n",
            "  inflating: test_data/test_data/cbrtsh/_D32_10317.jpg  \n",
            "  inflating: test_data/test_data/cbrtsh/_D32_10318.jpg  \n",
            "  inflating: test_data/test_data/cmnmyn/DSC_2443.jpg  \n",
            "  inflating: test_data/test_data/cmnmyn/DSC_4681.jpg  \n",
            "  inflating: test_data/test_data/cmnmyn/DSC_5137.jpg  \n",
            "  inflating: test_data/test_data/cmnmyn/DSC_7625.jpg  \n",
            "  inflating: test_data/test_data/cmnmyn/P1050277.jpg  \n",
            "  inflating: test_data/test_data/cmnmyn/_D32_12426.jpg  \n",
            "  inflating: test_data/test_data/cmnmyn/_D32_12427.jpg  \n",
            "  inflating: test_data/test_data/cmnmyn/_D32_12428.jpg  \n",
            "  inflating: test_data/test_data/gretit/11620454726_31a35c26da_o.jpg  \n",
            "  inflating: test_data/test_data/gretit/11776135285_ccf938fa2e_o.jpg  \n",
            "  inflating: test_data/test_data/gretit/11905645146_6a5d4ff9f9_o.jpg  \n",
            "  inflating: test_data/test_data/gretit/8537646712_0b282c4c6a_o.jpg  \n",
            "  inflating: test_data/test_data/gretit/D72_0693.jpg  \n",
            "  inflating: test_data/test_data/gretit/D72_0694.jpg  \n",
            "  inflating: test_data/test_data/gretit/D72_0695.jpg  \n",
            "  inflating: test_data/test_data/hilpig/DSC_6359.jpg  \n",
            "  inflating: test_data/test_data/hilpig/DSC_6362.jpg  \n",
            "  inflating: test_data/test_data/hilpig/DSC_6364.jpg  \n",
            "  inflating: test_data/test_data/hilpig/DSC_6368.jpg  \n",
            "  inflating: test_data/test_data/hilpig/DSC_6403.jpg  \n",
            "  inflating: test_data/test_data/hilpig/DSC_6404.jpg  \n",
            "  inflating: test_data/test_data/hilpig/P1000319.jpg  \n",
            "  inflating: test_data/test_data/hilpig/P1000323.jpg  \n",
            "  inflating: test_data/test_data/hilpig/P1050044.jpg  \n",
            "  inflating: test_data/test_data/hilpig/P1050045.jpg  \n",
            "  inflating: test_data/test_data/himbul/11602064885_3826df4500_o.jpg  \n",
            "  inflating: test_data/test_data/himbul/11619942574_42f23a7b05_o.jpg  \n",
            "  inflating: test_data/test_data/himbul/11620097904_33fa8ee878_o.jpg  \n",
            "  inflating: test_data/test_data/himbul/5857371972_ed4f88b275_o.jpg  \n",
            "  inflating: test_data/test_data/himbul/6154954471_eefe6e00d1_o.jpg  \n",
            "  inflating: test_data/test_data/himbul/D72_0688.jpg  \n",
            "  inflating: test_data/test_data/himbul/D72_0691.jpg  \n",
            "  inflating: test_data/test_data/himbul/DSC08357.jpg  \n",
            "  inflating: test_data/test_data/himbul/DSC_3230.jpg  \n",
            "  inflating: test_data/test_data/himbul/DSC_7439.jpg  \n",
            "  inflating: test_data/test_data/himbul/DSC_7602.jpg  \n",
            "  inflating: test_data/test_data/himbul/P1060368.jpg  \n",
            "  inflating: test_data/test_data/himbul/P1060369.jpg  \n",
            "  inflating: test_data/test_data/himbul/_D32_10242.jpg  \n",
            "  inflating: test_data/test_data/himbul/_D32_10245.jpg  \n",
            "  inflating: test_data/test_data/himbul/_D32_10251.jpg  \n",
            "  inflating: test_data/test_data/himbul/_D32_10319.jpg  \n",
            "  inflating: test_data/test_data/himbul/_D32_10320.jpg  \n",
            "  inflating: test_data/test_data/himbul/_DSC9446.jpg  \n",
            "  inflating: test_data/test_data/himgri/IMG_5384.JPG  \n",
            "  inflating: test_data/test_data/himgri/IMG_5385.JPG  \n",
            "  inflating: test_data/test_data/himgri/IMG_5386.JPG  \n",
            "  inflating: test_data/test_data/himgri/IMG_5387.JPG  \n",
            "  inflating: test_data/test_data/himgri/IMG_5459.JPG  \n",
            "  inflating: test_data/test_data/himgri/IMG_5460.JPG  \n",
            "  inflating: test_data/test_data/himgri/IMG_5487.JPG  \n",
            "  inflating: test_data/test_data/himgri/IMG_5488.JPG  \n",
            "  inflating: test_data/test_data/himgri/IMG_5489.JPG  \n",
            "  inflating: test_data/test_data/himgri/IMG_5490.JPG  \n",
            "  inflating: test_data/test_data/himgri/IMG_5491.JPG  \n",
            "  inflating: test_data/test_data/himgri/IMG_5492.JPG  \n",
            "  inflating: test_data/test_data/himgri/P1020742.jpg  \n",
            "  inflating: test_data/test_data/himgri/P1020743.jpg  \n",
            "  inflating: test_data/test_data/himgri/P1020746.jpg  \n",
            "  inflating: test_data/test_data/himgri/P1020748.jpg  \n",
            "  inflating: test_data/test_data/himgri/P1030055.jpg  \n",
            "  inflating: test_data/test_data/himgri/P1060776.jpg  \n",
            "  inflating: test_data/test_data/himgri/P1060777.jpg  \n",
            "  inflating: test_data/test_data/himgri/P1060778.jpg  \n",
            "  inflating: test_data/test_data/hsparo/100_5573.JPG  \n",
            "  inflating: test_data/test_data/hsparo/100_5585.JPG  \n",
            "  inflating: test_data/test_data/hsparo/100_5586.JPG  \n",
            "  inflating: test_data/test_data/hsparo/100_5742.JPG  \n",
            "  inflating: test_data/test_data/hsparo/12265273154_48e0fefd42_o.jpg  \n",
            "  inflating: test_data/test_data/hsparo/DSC_4521.jpg  \n",
            "  inflating: test_data/test_data/hsparo/DSC_7619.jpg  \n",
            "  inflating: test_data/test_data/hsparo/_DSC_11244.jpg  \n",
            "  inflating: test_data/test_data/hsparo/_DSC_11246.jpg  \n",
            "  inflating: test_data/test_data/indvul/DSC_1263.jpg  \n",
            "  inflating: test_data/test_data/indvul/DSC_1273.jpg  \n",
            "  inflating: test_data/test_data/indvul/DSC_1274.jpg  \n",
            "  inflating: test_data/test_data/indvul/DSC_1275.jpg  \n",
            "  inflating: test_data/test_data/indvul/DSC_1277.jpg  \n",
            "  inflating: test_data/test_data/indvul/_DSC8754.jpg  \n",
            "  inflating: test_data/test_data/indvul/_DSC9520.jpg  \n",
            "  inflating: test_data/test_data/indvul/_DSC9521.jpg  \n",
            "  inflating: test_data/test_data/indvul/_DSC9523.jpg  \n",
            "  inflating: test_data/test_data/jglowl/_D32_10584.jpg  \n",
            "  inflating: test_data/test_data/jglowl/_D32_10587.jpg  \n",
            "  inflating: test_data/test_data/jglowl/_D32_10593.jpg  \n",
            "  inflating: test_data/test_data/jglowl/_D32_13515.jpg  \n",
            "  inflating: test_data/test_data/jglowl/_D32_13516.jpg  \n",
            "  inflating: test_data/test_data/jglowl/_D32_13517.jpg  \n",
            "  inflating: test_data/test_data/lbicrw/100_4917.JPG  \n",
            "  inflating: test_data/test_data/lbicrw/IMG_5538.JPG  \n",
            "  inflating: test_data/test_data/lbicrw/IMG_5541.JPG  \n",
            "  inflating: test_data/test_data/lbicrw/IMG_5543.JPG  \n",
            "  inflating: test_data/test_data/lbicrw/IMG_5544.JPG  \n",
            "  inflating: test_data/test_data/lbicrw/P1030030.jpg  \n",
            "  inflating: test_data/test_data/mgprob/100_5811.JPG  \n",
            "  inflating: test_data/test_data/mgprob/100_5812.JPG  \n",
            "  inflating: test_data/test_data/mgprob/100_5813.JPG  \n",
            "  inflating: test_data/test_data/mgprob/DSC_3233.jpg  \n",
            "  inflating: test_data/test_data/mgprob/_DSC0085.jpg  \n",
            "  inflating: test_data/test_data/mgprob/_DSC0133.jpg  \n",
            "  inflating: test_data/test_data/mgprob/_DSC0135.jpg  \n",
            "  inflating: test_data/test_data/rebimg/100_5756.JPG  \n",
            "  inflating: test_data/test_data/rebimg/100_5757.JPG  \n",
            "  inflating: test_data/test_data/rebimg/100_5758.JPG  \n",
            "  inflating: test_data/test_data/rebimg/100_5759.JPG  \n",
            "  inflating: test_data/test_data/rebimg/100_5760.JPG  \n",
            "  inflating: test_data/test_data/rebimg/13009302395_5d88a9d62b_o.jpg  \n",
            "  inflating: test_data/test_data/rebimg/13009315305_f1cbfb6767_o.jpg  \n",
            "  inflating: test_data/test_data/rebimg/13009451823_8eb502581f_o.jpg  \n",
            "  inflating: test_data/test_data/rebimg/DSC_7148.jpg  \n",
            "  inflating: test_data/test_data/rebimg/IMG_5251.JPG  \n",
            "  inflating: test_data/test_data/rebimg/IMG_5252.JPG  \n",
            "  inflating: test_data/test_data/wcrsrt/100_4462.JPG  \n",
            "  inflating: test_data/test_data/wcrsrt/100_4463.JPG  \n",
            "  inflating: test_data/test_data/wcrsrt/100_4464.JPG  \n",
            "  inflating: test_data/test_data/wcrsrt/100_4466.JPG  \n",
            "  inflating: test_data/test_data/wcrsrt/100_4467.JPG  \n",
            "  inflating: test_data/test_data/wcrsrt/100_4468.JPG  \n",
            "  inflating: test_data/test_data/wcrsrt/100_5103.JPG  \n",
            "  inflating: test_data/test_data/wcrsrt/100_5105.JPG  \n",
            "  inflating: test_data/test_data/wcrsrt/11382677585_ef6570a041_o.jpg  \n",
            "  inflating: test_data/test_data/wcrsrt/11382746854_7ce73793b3_o.jpg  \n",
            "  inflating: train_data/train_data/blasti/DSC_6382.jpg  \n",
            "  inflating: train_data/train_data/blasti/DSC_6383.jpg  \n",
            "  inflating: train_data/train_data/blasti/DSC_6384-2.jpg  \n",
            "  inflating: train_data/train_data/blasti/DSC_6384.jpg  \n",
            "  inflating: train_data/train_data/blasti/DSC_6385.jpg  \n",
            "  inflating: train_data/train_data/blasti/DSC_6386.jpg  \n",
            "  inflating: train_data/train_data/blasti/DSC_6387.jpg  \n",
            "  inflating: train_data/train_data/blasti/DSC_6388.jpg  \n",
            "  inflating: train_data/train_data/blasti/DSC_6389.jpg  \n",
            "  inflating: train_data/train_data/blasti/DSC_6390.jpg  \n",
            "  inflating: train_data/train_data/blasti/DSC_6391.jpg  \n",
            "  inflating: train_data/train_data/blasti/DSC_6392.jpg  \n",
            "  inflating: train_data/train_data/blasti/DSC_6393.jpg  \n",
            "  inflating: train_data/train_data/blasti/DSC_6394.jpg  \n",
            "  inflating: train_data/train_data/blasti/DSC_6395.jpg  \n",
            "  inflating: train_data/train_data/bonegl/DSC_4570.jpg  \n",
            "  inflating: train_data/train_data/bonegl/DSC_4571.jpg  \n",
            "  inflating: train_data/train_data/bonegl/DSC_4583.jpg  \n",
            "  inflating: train_data/train_data/bonegl/DSC_4584.jpg  \n",
            "  inflating: train_data/train_data/bonegl/DSC_4585.jpg  \n",
            "  inflating: train_data/train_data/bonegl/DSC_4586.jpg  \n",
            "  inflating: train_data/train_data/brhkyt/D72_0400.jpg  \n",
            "  inflating: train_data/train_data/brhkyt/D72_0401.jpg  \n",
            "  inflating: train_data/train_data/brhkyt/D72_0470.jpg  \n",
            "  inflating: train_data/train_data/brhkyt/D72_0471.jpg  \n",
            "  inflating: train_data/train_data/brhkyt/D72_0472.jpg  \n",
            "  inflating: train_data/train_data/cbrtsh/100_5097.JPG  \n",
            "  inflating: train_data/train_data/cbrtsh/_D32_10303.jpg  \n",
            "  inflating: train_data/train_data/cbrtsh/_D32_10305.jpg  \n",
            "  inflating: train_data/train_data/cbrtsh/_D32_10306.jpg  \n",
            "  inflating: train_data/train_data/cbrtsh/_D32_10307.jpg  \n",
            "  inflating: train_data/train_data/cbrtsh/_D32_10308.jpg  \n",
            "  inflating: train_data/train_data/cbrtsh/_D32_10309.jpg  \n",
            "  inflating: train_data/train_data/cmnmyn/100_5763.JPG  \n",
            "  inflating: train_data/train_data/cmnmyn/5866682091_870ccc946c_o.jpg  \n",
            "  inflating: train_data/train_data/cmnmyn/6154956165_64266b8b53_o.jpg  \n",
            "  inflating: train_data/train_data/cmnmyn/DSCN5784.jpg  \n",
            "  inflating: train_data/train_data/cmnmyn/DSCN5787.jpg  \n",
            "  inflating: train_data/train_data/cmnmyn/DSCN5790.jpg  \n",
            "  inflating: train_data/train_data/cmnmyn/DSCN5791.jpg  \n",
            "  inflating: train_data/train_data/gretit/100_5042.JPG  \n",
            "  inflating: train_data/train_data/gretit/100_5043.JPG  \n",
            "  inflating: train_data/train_data/gretit/100_5044.JPG  \n",
            "  inflating: train_data/train_data/gretit/100_5045.JPG  \n",
            "  inflating: train_data/train_data/gretit/100_5046.JPG  \n",
            "  inflating: train_data/train_data/gretit/100_5047.JPG  \n",
            "  inflating: train_data/train_data/hilpig/DSC_6272.jpg  \n",
            "  inflating: train_data/train_data/hilpig/DSC_6273.jpg  \n",
            "  inflating: train_data/train_data/hilpig/DSC_6274.jpg  \n",
            "  inflating: train_data/train_data/hilpig/DSC_6275.jpg  \n",
            "  inflating: train_data/train_data/hilpig/DSC_6350.jpg  \n",
            "  inflating: train_data/train_data/hilpig/DSC_6351.jpg  \n",
            "  inflating: train_data/train_data/hilpig/DSC_6352.jpg  \n",
            "  inflating: train_data/train_data/hilpig/DSC_6353.jpg  \n",
            "  inflating: train_data/train_data/hilpig/DSC_6354.jpg  \n",
            "  inflating: train_data/train_data/hilpig/DSC_6358.jpg  \n",
            "  inflating: train_data/train_data/himbul/100_5028.JPG  \n",
            "  inflating: train_data/train_data/himbul/100_5029.JPG  \n",
            "  inflating: train_data/train_data/himbul/100_5096.JPG  \n",
            "  inflating: train_data/train_data/himbul/100_5099.JPG  \n",
            "  inflating: train_data/train_data/himbul/100_5100.JPG  \n",
            "  inflating: train_data/train_data/himbul/100_5102.JPG  \n",
            "  inflating: train_data/train_data/himbul/100_5110.JPG  \n",
            "  inflating: train_data/train_data/himbul/100_5112.JPG  \n",
            "  inflating: train_data/train_data/himbul/100_5113.JPG  \n",
            "  inflating: train_data/train_data/himbul/100_5159.JPG  \n",
            "  inflating: train_data/train_data/himbul/100_5160.JPG  \n",
            "  inflating: train_data/train_data/himbul/100_5161.JPG  \n",
            "  inflating: train_data/train_data/himbul/100_5162.JPG  \n",
            "  inflating: train_data/train_data/himbul/10774570945_9bc537c255_o.jpg  \n",
            "  inflating: train_data/train_data/himbul/11383838134_96e891a316_o.jpg  \n",
            "  inflating: train_data/train_data/himbul/11383857084_cdd7514746_o.jpg  \n",
            "  inflating: train_data/train_data/himbul/11387473723_464965720a_o.jpg  \n",
            "  inflating: train_data/train_data/himbul/9007817678_24db19fc63_o.jpg  \n",
            "  inflating: train_data/train_data/himgri/12029790563_2fe54a68aa_o.jpg  \n",
            "  inflating: train_data/train_data/himgri/12029822653_1185544e7b_o.jpg  \n",
            "  inflating: train_data/train_data/himgri/12029933015_802428e277_o.jpg  \n",
            "  inflating: train_data/train_data/himgri/12029987304_031b7a2d53_o.jpg  \n",
            "  inflating: train_data/train_data/himgri/12030165813_f5341e8ed0_o.jpg  \n",
            "  inflating: train_data/train_data/himgri/12030221124_1baaf905d1_o.jpg  \n",
            "  inflating: train_data/train_data/himgri/12030269234_1c3f5a8e8c_o.jpg  \n",
            "  inflating: train_data/train_data/himgri/12152037683_13e1556c41_o.jpg  \n",
            "  inflating: train_data/train_data/himgri/12152178844_dc29e3126f_o.jpg  \n",
            "  inflating: train_data/train_data/himgri/12152510436_23b62fed3b_o.jpg  \n",
            "  inflating: train_data/train_data/himgri/12265055185_138e3c7c70_o.jpg  \n",
            "  inflating: train_data/train_data/himgri/12265498144_d2e80faa3b_o.jpg  \n",
            "  inflating: train_data/train_data/himgri/12265561764_4814951031_o.jpg  \n",
            "  inflating: train_data/train_data/himgri/12265582724_61cb64e73a_o.jpg  \n",
            "  inflating: train_data/train_data/himgri/12265738206_2b9b25cc8a_o.jpg  \n",
            "  inflating: train_data/train_data/himgri/12265747116_d4b4fa3741_o.jpg  \n",
            "  inflating: train_data/train_data/himgri/12266053036_fcab92d8e8_o.jpg  \n",
            "  inflating: train_data/train_data/himgri/12266077576_1d7143aaf7_o.jpg  \n",
            "  inflating: train_data/train_data/himgri/12266086526_82cd337667_o.jpg  \n",
            "  inflating: train_data/train_data/himgri/IMG_5463.JPG  \n",
            "  inflating: train_data/train_data/hsparo/100_4757.JPG  \n",
            "  inflating: train_data/train_data/hsparo/100_4758.JPG  \n",
            "  inflating: train_data/train_data/hsparo/100_5039.JPG  \n",
            "  inflating: train_data/train_data/hsparo/100_5040.JPG  \n",
            "  inflating: train_data/train_data/hsparo/100_5041.JPG  \n",
            "  inflating: train_data/train_data/hsparo/100_5048.JPG  \n",
            "  inflating: train_data/train_data/hsparo/100_5049.JPG  \n",
            "  inflating: train_data/train_data/hsparo/100_5050.JPG  \n",
            "  inflating: train_data/train_data/hsparo/100_5572.JPG  \n",
            "  inflating: train_data/train_data/indvul/DSC_0502.jpg  \n",
            "  inflating: train_data/train_data/indvul/DSC_0571e.jpg  \n",
            "  inflating: train_data/train_data/indvul/DSC_0572.jpg  \n",
            "  inflating: train_data/train_data/indvul/DSC_0576e.jpg  \n",
            "  inflating: train_data/train_data/indvul/DSC_0582.jpg  \n",
            "  inflating: train_data/train_data/indvul/DSC_0583e.jpg  \n",
            "  inflating: train_data/train_data/indvul/DSC_0584.jpg  \n",
            "  inflating: train_data/train_data/indvul/DSC_0616c.jpg  \n",
            "  inflating: train_data/train_data/indvul/DSC_0617.jpg  \n",
            "  inflating: train_data/train_data/jglowl/12152151476_7a1524aabb_o.jpg  \n",
            "  inflating: train_data/train_data/jglowl/DSC01335.jpg  \n",
            "  inflating: train_data/train_data/jglowl/DSC01336.jpg  \n",
            "  inflating: train_data/train_data/jglowl/_D32_10285.jpg  \n",
            "  inflating: train_data/train_data/jglowl/_D32_10578.jpg  \n",
            "  inflating: train_data/train_data/jglowl/_D32_10583.jpg  \n",
            "  inflating: train_data/train_data/lbicrw/100_4037.JPG  \n",
            "  inflating: train_data/train_data/lbicrw/100_4912.JPG  \n",
            "  inflating: train_data/train_data/lbicrw/100_4913.JPG  \n",
            "  inflating: train_data/train_data/lbicrw/100_4914.JPG  \n",
            "  inflating: train_data/train_data/lbicrw/100_4915.JPG  \n",
            "  inflating: train_data/train_data/lbicrw/100_4916.JPG  \n",
            "  inflating: train_data/train_data/mgprob/100_5587.JPG  \n",
            "  inflating: train_data/train_data/mgprob/100_5588.JPG  \n",
            "  inflating: train_data/train_data/mgprob/100_5589.JPG  \n",
            "  inflating: train_data/train_data/mgprob/100_5590.JPG  \n",
            "  inflating: train_data/train_data/mgprob/100_5592.JPG  \n",
            "  inflating: train_data/train_data/mgprob/100_5762.JPG  \n",
            "  inflating: train_data/train_data/rebimg/100_5744.JPG  \n",
            "  inflating: train_data/train_data/rebimg/100_5745.JPG  \n",
            "  inflating: train_data/train_data/rebimg/100_5746.JPG  \n",
            "  inflating: train_data/train_data/rebimg/100_5748.JPG  \n",
            "  inflating: train_data/train_data/rebimg/100_5749.JPG  \n",
            "  inflating: train_data/train_data/rebimg/100_5750.JPG  \n",
            "  inflating: train_data/train_data/rebimg/100_5751.JPG  \n",
            "  inflating: train_data/train_data/rebimg/100_5752.JPG  \n",
            "  inflating: train_data/train_data/rebimg/100_5754.JPG  \n",
            "  inflating: train_data/train_data/rebimg/100_5755.JPG  \n",
            "  inflating: train_data/train_data/wcrsrt/100_4452.JPG  \n",
            "  inflating: train_data/train_data/wcrsrt/100_4453.JPG  \n",
            "  inflating: train_data/train_data/wcrsrt/100_4454.JPG  \n",
            "  inflating: train_data/train_data/wcrsrt/100_4455.JPG  \n",
            "  inflating: train_data/train_data/wcrsrt/100_4456.JPG  \n",
            "  inflating: train_data/train_data/wcrsrt/100_4457.JPG  \n",
            "  inflating: train_data/train_data/wcrsrt/100_4458.JPG  \n",
            "  inflating: train_data/train_data/wcrsrt/100_4459.JPG  \n",
            "  inflating: train_data/train_data/wcrsrt/100_4460.JPG  \n",
            "  inflating: train_data/train_data/wcrsrt/100_4461.JPG  \n"
          ]
        }
      ],
      "source": [
        "!unzip '/content/drive/MyDrive/archive (2).zip'"
      ]
    },
    {
      "cell_type": "markdown",
      "source": [
        "**DATA AUGUMENTATION** "
      ],
      "metadata": {
        "id": "74C43GbNNoa-"
      }
    },
    {
      "cell_type": "code",
      "source": [
        "# Data Augmentation\n",
        "\n",
        "from tensorflow.keras.preprocessing.image import ImageDataGenerator\n",
        "\n",
        "train_gen = ImageDataGenerator(rescale=(1./255),horizontal_flip=True,shear_range=0.2)\n",
        "test_gen = ImageDataGenerator(rescale=(1./255))  #--> (0 to 255) convert to (0 to 1)"
      ],
      "metadata": {
        "id": "pEF0uh1e8vj9"
      },
      "execution_count": 12,
      "outputs": []
    },
    {
      "cell_type": "code",
      "source": [
        "train = train_gen.flow_from_directory('/content/train_data/train_data',\n",
        "                                      target_size=(120, 120),\n",
        "                                      class_mode='categorical', \n",
        "                                      batch_size=8)\n",
        "test = test_gen.flow_from_directory('/content/test_data/test_data',\n",
        "                                    target_size=(120, 120),\n",
        "                                      class_mode='categorical', \n",
        "                                      batch_size=8)"
      ],
      "metadata": {
        "colab": {
          "base_uri": "https://localhost:8080/"
        },
        "id": "xvt430wd83cH",
        "outputId": "c730fc27-196b-4eea-f942-4364d60adda0"
      },
      "execution_count": 13,
      "outputs": [
        {
          "output_type": "stream",
          "name": "stdout",
          "text": [
            "Found 150 images belonging to 16 classes.\n",
            "Found 157 images belonging to 16 classes.\n"
          ]
        }
      ]
    },
    {
      "cell_type": "code",
      "source": [
        "train.class_indices"
      ],
      "metadata": {
        "colab": {
          "base_uri": "https://localhost:8080/"
        },
        "id": "FmEuTk529EJz",
        "outputId": "da2dae8e-0095-45ca-f80f-8edde09d0e59"
      },
      "execution_count": 14,
      "outputs": [
        {
          "output_type": "execute_result",
          "data": {
            "text/plain": [
              "{'blasti': 0,\n",
              " 'bonegl': 1,\n",
              " 'brhkyt': 2,\n",
              " 'cbrtsh': 3,\n",
              " 'cmnmyn': 4,\n",
              " 'gretit': 5,\n",
              " 'hilpig': 6,\n",
              " 'himbul': 7,\n",
              " 'himgri': 8,\n",
              " 'hsparo': 9,\n",
              " 'indvul': 10,\n",
              " 'jglowl': 11,\n",
              " 'lbicrw': 12,\n",
              " 'mgprob': 13,\n",
              " 'rebimg': 14,\n",
              " 'wcrsrt': 15}"
            ]
          },
          "metadata": {},
          "execution_count": 14
        }
      ]
    },
    {
      "cell_type": "markdown",
      "source": [
        "**BUILDING THE CNN MODEL**"
      ],
      "metadata": {
        "id": "Jp_C0tJYNvAG"
      }
    },
    {
      "cell_type": "code",
      "source": [
        "from tensorflow.keras.layers import Convolution2D,MaxPooling2D,Flatten,Dense\n",
        "from tensorflow.keras.models import Sequential\n",
        "\n",
        "\n",
        "\n",
        "model = Sequential()\n",
        "model.add(Convolution2D(20,(3,3),activation='relu',input_shape=(120, 120, 3)))\n",
        "model.add(MaxPooling2D(pool_size=(2,2)))\n",
        "model.add(Flatten())\n",
        "model.add(Dense(45,activation='relu'))\n",
        "model.add(Dense(16,activation='softmax'))"
      ],
      "metadata": {
        "id": "LFLxlzIJ9jRf"
      },
      "execution_count": 15,
      "outputs": []
    },
    {
      "cell_type": "code",
      "source": [
        "model.compile(optimizer='adam',loss='categorical_crossentropy',metrics=['accuracy'])"
      ],
      "metadata": {
        "id": "GoXo0Igl9qSq"
      },
      "execution_count": 16,
      "outputs": []
    },
    {
      "cell_type": "code",
      "source": [
        "model.fit(train,batch_size=32,validation_data=test,epochs=10)"
      ],
      "metadata": {
        "colab": {
          "base_uri": "https://localhost:8080/"
        },
        "id": "Aw9aJ0TA9vme",
        "outputId": "a2828641-5956-49ce-8dbf-bdac23efe6f6"
      },
      "execution_count": 17,
      "outputs": [
        {
          "output_type": "stream",
          "name": "stdout",
          "text": [
            "Epoch 1/10\n",
            "19/19 [==============================] - 88s 5s/step - loss: 2.9425 - accuracy: 0.1600 - val_loss: 2.7141 - val_accuracy: 0.1083\n",
            "Epoch 2/10\n",
            "19/19 [==============================] - 84s 5s/step - loss: 2.3422 - accuracy: 0.2400 - val_loss: 2.7099 - val_accuracy: 0.1592\n",
            "Epoch 3/10\n",
            "19/19 [==============================] - 85s 5s/step - loss: 2.2688 - accuracy: 0.2800 - val_loss: 2.6384 - val_accuracy: 0.1465\n",
            "Epoch 4/10\n",
            "19/19 [==============================] - 86s 5s/step - loss: 1.9854 - accuracy: 0.3267 - val_loss: 2.6586 - val_accuracy: 0.1720\n",
            "Epoch 5/10\n",
            "19/19 [==============================] - 84s 5s/step - loss: 1.6294 - accuracy: 0.5000 - val_loss: 2.6896 - val_accuracy: 0.1720\n",
            "Epoch 6/10\n",
            "19/19 [==============================] - 87s 5s/step - loss: 1.3136 - accuracy: 0.5933 - val_loss: 2.6128 - val_accuracy: 0.2293\n",
            "Epoch 7/10\n",
            "19/19 [==============================] - 86s 5s/step - loss: 1.1563 - accuracy: 0.6600 - val_loss: 2.7258 - val_accuracy: 0.2166\n",
            "Epoch 8/10\n",
            "19/19 [==============================] - 87s 5s/step - loss: 0.8888 - accuracy: 0.7333 - val_loss: 2.9348 - val_accuracy: 0.2293\n",
            "Epoch 9/10\n",
            "19/19 [==============================] - 84s 5s/step - loss: 0.6657 - accuracy: 0.8400 - val_loss: 3.0805 - val_accuracy: 0.2803\n",
            "Epoch 10/10\n",
            "19/19 [==============================] - 86s 5s/step - loss: 0.5082 - accuracy: 0.8733 - val_loss: 2.8335 - val_accuracy: 0.2930\n"
          ]
        },
        {
          "output_type": "execute_result",
          "data": {
            "text/plain": [
              "<keras.callbacks.History at 0x7f22901903d0>"
            ]
          },
          "metadata": {},
          "execution_count": 17
        }
      ]
    },
    {
      "cell_type": "markdown",
      "source": [
        "**SAVING THE WEIGHTS**"
      ],
      "metadata": {
        "id": "S19DxVIqN0sK"
      }
    },
    {
      "cell_type": "code",
      "source": [
        "model.save('birdsWeights.h5')"
      ],
      "metadata": {
        "id": "X_7QXNb5H91Z"
      },
      "execution_count": 18,
      "outputs": []
    },
    {
      "cell_type": "markdown",
      "source": [
        "**TESTING THE MODEL WITH RANDOM IMAGES**"
      ],
      "metadata": {
        "id": "mWfnHpxKN4Gm"
      }
    },
    {
      "cell_type": "code",
      "source": [
        "# Testing\n",
        "\n",
        "import numpy as np\n",
        "from tensorflow.keras.preprocessing import image"
      ],
      "metadata": {
        "id": "5CAbwVLbIEvm"
      },
      "execution_count": 19,
      "outputs": []
    },
    {
      "cell_type": "code",
      "source": [
        "# Testing 1\n",
        "img1 = image.load_img('/content/test_data/test_data/himbul/D72_0688.jpg',target_size=(120,120))\n",
        "img1 = image.img_to_array(img1)\n",
        "img1 = np.expand_dims(img1,axis=0)\n",
        "pred = np.argmax(model.predict(img1))\n",
        "print(pred)\n",
        "output = ['blasti','bongel','brhkyt','cbrtsh','cmnmyn','gretit','hilpig','himbul','himgri','hsparo','indvul','jglowl','lbicrw','mgprob','rebimg','wcrsrt']\n",
        "print(output[pred])"
      ],
      "metadata": {
        "colab": {
          "base_uri": "https://localhost:8080/"
        },
        "id": "k_Ffp5ymIIL5",
        "outputId": "c2f0d26b-3af0-4ec1-9b5d-187fbe039a35"
      },
      "execution_count": 20,
      "outputs": [
        {
          "output_type": "stream",
          "name": "stdout",
          "text": [
            "1/1 [==============================] - 0s 147ms/step\n",
            "7\n",
            "himbul\n"
          ]
        }
      ]
    },
    {
      "cell_type": "code",
      "source": [
        "# Testing 2\n",
        "img1 = image.load_img('/content/crow.jpeg',target_size=(120,120))\n",
        "img1 = image.img_to_array(img1)\n",
        "img1 = np.expand_dims(img1,axis=0)\n",
        "pred = np.argmax(model.predict(img1))\n",
        "print(pred)\n",
        "output = ['blasti','bongel','brhkyt','cbrtsh','cmnmyn','gretit','hilpig','himbul','himgri','hsparo','indvul','jglowl','lbicrw','mgprob','rebimg','wcrsrt']\n",
        "print(output[pred])"
      ],
      "metadata": {
        "colab": {
          "base_uri": "https://localhost:8080/"
        },
        "id": "n4ojtV4FmUTI",
        "outputId": "d00af77f-6a54-4315-95f1-25c5e0efcc36"
      },
      "execution_count": 26,
      "outputs": [
        {
          "output_type": "stream",
          "name": "stdout",
          "text": [
            "1/1 [==============================] - 0s 157ms/step\n",
            "9\n",
            "hsparo\n"
          ]
        }
      ]
    },
    {
      "cell_type": "code",
      "source": [
        "# Testing 3\n",
        "img1 = image.load_img('/content/owl.jpeg',target_size=(120,120))\n",
        "img1 = image.img_to_array(img1)\n",
        "img1 = np.expand_dims(img1,axis=0)\n",
        "pred = np.argmax(model.predict(img1))\n",
        "print(pred)\n",
        "output = ['blasti','bongel','brhkyt','cbrtsh','cmnmyn','gretit','hilpig','himbul','himgri','hsparo','indvul','jglowl','lbicrw','mgprob','rebimg','wcrsrt']\n",
        "print(output[pred])"
      ],
      "metadata": {
        "colab": {
          "base_uri": "https://localhost:8080/"
        },
        "id": "y2yw8zCkmZUK",
        "outputId": "0525dce5-1964-4d36-c8b0-88685db1fc7f"
      },
      "execution_count": 27,
      "outputs": [
        {
          "output_type": "stream",
          "name": "stdout",
          "text": [
            "1/1 [==============================] - 0s 21ms/step\n",
            "9\n",
            "hsparo\n"
          ]
        }
      ]
    },
    {
      "cell_type": "code",
      "source": [
        "# Testing 4\n",
        "img2 = image.load_img('/content/test_data/test_data/lbicrw/IMG_5538.JPG',target_size=(120,120))\n",
        "img2 = image.img_to_array(img2)\n",
        "img2 = np.expand_dims(img2,axis=0)\n",
        "pred = np.argmax(model.predict(img2))\n",
        "print(pred)\n",
        "output = ['blasti','bongel','brhkyt','cbrtsh','cmnmyn','gretit','hilpig','himbul','himgri','hsparo','indvul','jglowl','lbicrw','mgprob','rebimg','wcrsrt']\n",
        "print(output[pred])\n",
        "     "
      ],
      "metadata": {
        "colab": {
          "base_uri": "https://localhost:8080/"
        },
        "id": "-Aou7yutKHJA",
        "outputId": "e2e67661-337d-4d7d-bc58-c8f208a7ef3f"
      },
      "execution_count": 21,
      "outputs": [
        {
          "output_type": "stream",
          "name": "stdout",
          "text": [
            "1/1 [==============================] - 0s 20ms/step\n",
            "13\n",
            "mgprob\n"
          ]
        }
      ]
    },
    {
      "cell_type": "markdown",
      "source": [
        "**TUNING THE MODEL BY ADDING FEATURE EXTRACTION LAYERS**"
      ],
      "metadata": {
        "id": "CN9NMhvoN-J2"
      }
    },
    {
      "cell_type": "markdown",
      "source": [
        "**MODEL TUNING**"
      ],
      "metadata": {
        "id": "vnpENuYmKTFe"
      }
    },
    {
      "cell_type": "code",
      "source": [
        "model = Sequential()\n",
        "model.add(Convolution2D(12,(3,3),activation='relu',input_shape=(120, 120, 3)))\n",
        "model.add(MaxPooling2D(pool_size=(2,2)))\n",
        "model.add(Convolution2D(24,(3,3),activation='relu'))\n",
        "model.add(MaxPooling2D(pool_size=(2,2)))\n",
        "model.add(Convolution2D(36,(3,3),activation='relu'))\n",
        "model.add(MaxPooling2D(pool_size=(2,2)))\n",
        "model.add(Flatten())\n",
        "model.add(Dense(62,activation='relu'))\n",
        "model.add(Dense(32,activation='relu'))\n",
        "model.add(Dense(24,activation='relu'))\n",
        "model.add(Dense(16,activation='softmax'))"
      ],
      "metadata": {
        "id": "UbqB2eRZKWNy"
      },
      "execution_count": 78,
      "outputs": []
    },
    {
      "cell_type": "code",
      "source": [
        "model.summary()"
      ],
      "metadata": {
        "colab": {
          "base_uri": "https://localhost:8080/"
        },
        "id": "aaN-Im1lKaQG",
        "outputId": "f308af34-f816-4b63-db49-704094e0a8bd"
      },
      "execution_count": 79,
      "outputs": [
        {
          "output_type": "stream",
          "name": "stdout",
          "text": [
            "Model: \"sequential_4\"\n",
            "_________________________________________________________________\n",
            " Layer (type)                Output Shape              Param #   \n",
            "=================================================================\n",
            " conv2d_8 (Conv2D)           (None, 118, 118, 12)      336       \n",
            "                                                                 \n",
            " max_pooling2d_8 (MaxPooling  (None, 59, 59, 12)       0         \n",
            " 2D)                                                             \n",
            "                                                                 \n",
            " conv2d_9 (Conv2D)           (None, 57, 57, 24)        2616      \n",
            "                                                                 \n",
            " max_pooling2d_9 (MaxPooling  (None, 28, 28, 24)       0         \n",
            " 2D)                                                             \n",
            "                                                                 \n",
            " conv2d_10 (Conv2D)          (None, 26, 26, 36)        7812      \n",
            "                                                                 \n",
            " max_pooling2d_10 (MaxPoolin  (None, 13, 13, 36)       0         \n",
            " g2D)                                                            \n",
            "                                                                 \n",
            " flatten_4 (Flatten)         (None, 6084)              0         \n",
            "                                                                 \n",
            " dense_12 (Dense)            (None, 62)                377270    \n",
            "                                                                 \n",
            " dense_13 (Dense)            (None, 32)                2016      \n",
            "                                                                 \n",
            " dense_14 (Dense)            (None, 24)                792       \n",
            "                                                                 \n",
            " dense_15 (Dense)            (None, 16)                400       \n",
            "                                                                 \n",
            "=================================================================\n",
            "Total params: 391,242\n",
            "Trainable params: 391,242\n",
            "Non-trainable params: 0\n",
            "_________________________________________________________________\n"
          ]
        }
      ]
    },
    {
      "cell_type": "code",
      "source": [
        "model.compile(optimizer='adam',loss='categorical_crossentropy',metrics=['accuracy'])"
      ],
      "metadata": {
        "id": "ThT0wpLtKk5g"
      },
      "execution_count": 80,
      "outputs": []
    },
    {
      "cell_type": "code",
      "source": [
        "model.fit(train,batch_size=32,validation_data=test,epochs=10)"
      ],
      "metadata": {
        "colab": {
          "base_uri": "https://localhost:8080/"
        },
        "id": "gWCs08L4KmFX",
        "outputId": "006ee7ff-5a8a-4264-cc2e-fdf1e6ff549e"
      },
      "execution_count": 81,
      "outputs": [
        {
          "output_type": "stream",
          "name": "stdout",
          "text": [
            "Epoch 1/10\n",
            "19/19 [==============================] - 93s 5s/step - loss: 2.7799 - accuracy: 0.0600 - val_loss: 2.7506 - val_accuracy: 0.1146\n",
            "Epoch 2/10\n",
            "19/19 [==============================] - 86s 5s/step - loss: 2.7236 - accuracy: 0.1067 - val_loss: 2.7398 - val_accuracy: 0.1210\n",
            "Epoch 3/10\n",
            "19/19 [==============================] - 87s 5s/step - loss: 2.7044 - accuracy: 0.1267 - val_loss: 2.7019 - val_accuracy: 0.1592\n",
            "Epoch 4/10\n",
            "19/19 [==============================] - 87s 5s/step - loss: 2.5906 - accuracy: 0.2200 - val_loss: 2.6103 - val_accuracy: 0.1592\n",
            "Epoch 5/10\n",
            "19/19 [==============================] - 85s 5s/step - loss: 2.3443 - accuracy: 0.2600 - val_loss: 2.5938 - val_accuracy: 0.1529\n",
            "Epoch 6/10\n",
            "19/19 [==============================] - 86s 5s/step - loss: 2.2091 - accuracy: 0.3067 - val_loss: 2.5833 - val_accuracy: 0.1911\n",
            "Epoch 7/10\n",
            "19/19 [==============================] - 85s 5s/step - loss: 2.1208 - accuracy: 0.3267 - val_loss: 2.5864 - val_accuracy: 0.1911\n",
            "Epoch 8/10\n",
            "19/19 [==============================] - 84s 5s/step - loss: 2.0680 - accuracy: 0.3533 - val_loss: 2.6155 - val_accuracy: 0.1911\n",
            "Epoch 9/10\n",
            "19/19 [==============================] - 83s 5s/step - loss: 1.9894 - accuracy: 0.3733 - val_loss: 2.6566 - val_accuracy: 0.1975\n",
            "Epoch 10/10\n",
            "19/19 [==============================] - 83s 5s/step - loss: 1.8450 - accuracy: 0.4067 - val_loss: 2.6406 - val_accuracy: 0.1911\n"
          ]
        },
        {
          "output_type": "execute_result",
          "data": {
            "text/plain": [
              "<keras.callbacks.History at 0x7f229041b970>"
            ]
          },
          "metadata": {},
          "execution_count": 81
        }
      ]
    },
    {
      "cell_type": "markdown",
      "source": [
        "**TESTING THE MODEL**"
      ],
      "metadata": {
        "id": "zi0kAnx9OIWQ"
      }
    },
    {
      "cell_type": "code",
      "source": [
        "# Testing 1\n",
        "img1 = image.load_img('/content/test_data/test_data/himbul/D72_0688.jpg',target_size=(120,120))\n",
        "img1 = image.img_to_array(img1)\n",
        "img1 = np.expand_dims(img1,axis=0)\n",
        "pred = np.argmax(model.predict(img1))\n",
        "print(pred)\n",
        "output = ['blasti','bongel','brhkyt','cbrtsh','cmnmyn','gretit','hilpig','himbul','himgri','hsparo','indvul','jglowl','lbicrw','mgprob','rebimg','wcrsrt']\n",
        "print(output[pred])"
      ],
      "metadata": {
        "colab": {
          "base_uri": "https://localhost:8080/"
        },
        "id": "dqITbXV0gZ88",
        "outputId": "72cdd078-3ba5-425f-b9f7-90c740c4c977"
      },
      "execution_count": 30,
      "outputs": [
        {
          "output_type": "stream",
          "name": "stdout",
          "text": [
            "1/1 [==============================] - 0s 19ms/step\n",
            "7\n",
            "himbul\n"
          ]
        }
      ]
    },
    {
      "cell_type": "code",
      "source": [
        "# Testing 2\n",
        "img1 = image.load_img('/content/test_data/test_data/bonegl/DSC_4588.jpg',target_size=(120,120))\n",
        "img1 = image.img_to_array(img1)\n",
        "img1 = np.expand_dims(img1,axis=0)\n",
        "pred = np.argmax(model.predict(img1))\n",
        "print(pred)\n",
        "output = ['blasti','bongel','brhkyt','cbrtsh','cmnmyn','gretit','hilpig','himbul','himgri','hsparo','indvul','jglowl','lbicrw','mgprob','rebimg','wcrsrt']\n",
        "print(output[pred])"
      ],
      "metadata": {
        "colab": {
          "base_uri": "https://localhost:8080/"
        },
        "id": "cnH8sizkggoN",
        "outputId": "c5d433c4-bb3e-4d9c-dab4-dfccae632831"
      },
      "execution_count": 82,
      "outputs": [
        {
          "output_type": "stream",
          "name": "stdout",
          "text": [
            "1/1 [==============================] - 0s 83ms/step\n",
            "14\n",
            "rebimg\n"
          ]
        }
      ]
    },
    {
      "cell_type": "code",
      "source": [
        "# Testing 3\n",
        "img1 = image.load_img('/content/test_data/test_data/cmnmyn/P1050277.jpg',target_size=(120,120))\n",
        "img1 = image.img_to_array(img1)\n",
        "img1 = np.expand_dims(img1,axis=0)\n",
        "pred = np.argmax(model.predict(img1))\n",
        "print(pred)\n",
        "output = ['blasti','bongel','brhkyt','cbrtsh','cmnmyn','gretit','hilpig','himbul','himgri','hsparo','indvul','jglowl','lbicrw','mgprob','rebimg','wcrsrt']\n",
        "print(output[pred])"
      ],
      "metadata": {
        "colab": {
          "base_uri": "https://localhost:8080/"
        },
        "id": "lvPFcOmkgptx",
        "outputId": "addbd189-b4b7-49ac-d69d-95b2a2de7df2"
      },
      "execution_count": 83,
      "outputs": [
        {
          "output_type": "stream",
          "name": "stdout",
          "text": [
            "1/1 [==============================] - 0s 38ms/step\n",
            "14\n",
            "rebimg\n"
          ]
        }
      ]
    },
    {
      "cell_type": "code",
      "source": [
        "# Testing 4\n",
        "img1 = image.load_img('/content/crow.jpeg',target_size=(120,120))\n",
        "img1 = image.img_to_array(img1)\n",
        "img1 = np.expand_dims(img1,axis=0)\n",
        "pred = np.argmax(model.predict(img1))\n",
        "print(pred)\n",
        "output = ['blasti','bongel','brhkyt','cbrtsh','cmnmyn','gretit','hilpig','himbul','himgri','hsparo','indvul','jglowl','lbicrw','mgprob','rebimg','wcrsrt']\n",
        "print(output[pred])"
      ],
      "metadata": {
        "colab": {
          "base_uri": "https://localhost:8080/"
        },
        "id": "u_vblq-Sv751",
        "outputId": "d8cfe3ed-bdc9-42fa-d1dd-b2790cd00125"
      },
      "execution_count": 84,
      "outputs": [
        {
          "output_type": "stream",
          "name": "stdout",
          "text": [
            "1/1 [==============================] - 0s 20ms/step\n",
            "14\n",
            "rebimg\n"
          ]
        }
      ]
    },
    {
      "cell_type": "code",
      "source": [
        "# Testing 5\n",
        "img1 = image.load_img('/content/owl.jpeg',target_size=(120,120))\n",
        "img1 = image.img_to_array(img1)\n",
        "img1 = np.expand_dims(img1,axis=0)\n",
        "pred = np.argmax(model.predict(img1))\n",
        "print(pred)\n",
        "output = ['blasti','bongel','brhkyt','cbrtsh','cmnmyn','gretit','hilpig','himbul','himgri','hsparo','indvul','jglowl','lbicrw','mgprob','rebimg','wcrsrt']\n",
        "print(output[pred])"
      ],
      "metadata": {
        "colab": {
          "base_uri": "https://localhost:8080/"
        },
        "id": "Fb8ijyZ4v91Z",
        "outputId": "b580fead-70ab-4f41-98f5-1317e6cca0ff"
      },
      "execution_count": 85,
      "outputs": [
        {
          "output_type": "stream",
          "name": "stdout",
          "text": [
            "1/1 [==============================] - 0s 26ms/step\n",
            "14\n",
            "rebimg\n"
          ]
        }
      ]
    },
    {
      "cell_type": "markdown",
      "source": [
        "**TUNING THE MODEL WITH DROPOUT, BATCH NORMALIZATION & EARLY STOPPING**"
      ],
      "metadata": {
        "id": "gMI9DO9WOLUB"
      }
    },
    {
      "cell_type": "code",
      "source": [
        "from tensorflow.keras.layers import BatchNormalization, Dropout"
      ],
      "metadata": {
        "id": "WUchwy6iwMhg"
      },
      "execution_count": 35,
      "outputs": []
    },
    {
      "cell_type": "code",
      "source": [
        "# Initializing the seq model\n",
        "model = Sequential()\n",
        "# Adding conv layer with input\n",
        "model.add(Convolution2D(12,(3,3),activation='relu',input_shape=(120, 120, 3)))\n",
        "# Normalizing the conv layer output\n",
        "model.add(BatchNormalization())\n",
        "# Selecting the max values\n",
        "model.add(MaxPooling2D(pool_size=(2,2)))\n",
        "# Dropping the unwanted 20% of data\n",
        "model.add(Dropout(0.2))\n",
        "model.add(Convolution2D(24,(3,3),activation='relu'))\n",
        "model.add(BatchNormalization())\n",
        "model.add(MaxPooling2D(pool_size=(2,2)))\n",
        "model.add(Dropout(0.2))\n",
        "model.add(Convolution2D(36,(3,3),activation='relu'))\n",
        "model.add(BatchNormalization())\n",
        "model.add(MaxPooling2D(pool_size=(2,2)))\n",
        "model.add(Dropout(0.2))\n",
        "model.add(Flatten())\n",
        "# Hiddern layers\n",
        "model.add(Dense(62,activation='relu'))\n",
        "model.add(BatchNormalization())\n",
        "model.add(Dropout(0.1))\n",
        "model.add(Dense(32,activation='relu'))\n",
        "model.add(Dense(16,activation='relu'))\n",
        "# Output layer\n",
        "model.add(Dense(16,activation='softmax'))"
      ],
      "metadata": {
        "id": "Al-IkxpMwQLZ"
      },
      "execution_count": 36,
      "outputs": []
    },
    {
      "cell_type": "code",
      "source": [
        "model.summary()"
      ],
      "metadata": {
        "colab": {
          "base_uri": "https://localhost:8080/"
        },
        "id": "wSeTiV3KwXo-",
        "outputId": "9bb30980-3803-4dfd-a19f-fab6634d1b42"
      },
      "execution_count": 37,
      "outputs": [
        {
          "output_type": "stream",
          "name": "stdout",
          "text": [
            "Model: \"sequential_3\"\n",
            "_________________________________________________________________\n",
            " Layer (type)                Output Shape              Param #   \n",
            "=================================================================\n",
            " conv2d_5 (Conv2D)           (None, 118, 118, 12)      336       \n",
            "                                                                 \n",
            " batch_normalization (BatchN  (None, 118, 118, 12)     48        \n",
            " ormalization)                                                   \n",
            "                                                                 \n",
            " max_pooling2d_5 (MaxPooling  (None, 59, 59, 12)       0         \n",
            " 2D)                                                             \n",
            "                                                                 \n",
            " dropout (Dropout)           (None, 59, 59, 12)        0         \n",
            "                                                                 \n",
            " conv2d_6 (Conv2D)           (None, 57, 57, 24)        2616      \n",
            "                                                                 \n",
            " batch_normalization_1 (Batc  (None, 57, 57, 24)       96        \n",
            " hNormalization)                                                 \n",
            "                                                                 \n",
            " max_pooling2d_6 (MaxPooling  (None, 28, 28, 24)       0         \n",
            " 2D)                                                             \n",
            "                                                                 \n",
            " dropout_1 (Dropout)         (None, 28, 28, 24)        0         \n",
            "                                                                 \n",
            " conv2d_7 (Conv2D)           (None, 26, 26, 36)        7812      \n",
            "                                                                 \n",
            " batch_normalization_2 (Batc  (None, 26, 26, 36)       144       \n",
            " hNormalization)                                                 \n",
            "                                                                 \n",
            " max_pooling2d_7 (MaxPooling  (None, 13, 13, 36)       0         \n",
            " 2D)                                                             \n",
            "                                                                 \n",
            " dropout_2 (Dropout)         (None, 13, 13, 36)        0         \n",
            "                                                                 \n",
            " flatten_3 (Flatten)         (None, 6084)              0         \n",
            "                                                                 \n",
            " dense_8 (Dense)             (None, 62)                377270    \n",
            "                                                                 \n",
            " batch_normalization_3 (Batc  (None, 62)               248       \n",
            " hNormalization)                                                 \n",
            "                                                                 \n",
            " dropout_3 (Dropout)         (None, 62)                0         \n",
            "                                                                 \n",
            " dense_9 (Dense)             (None, 32)                2016      \n",
            "                                                                 \n",
            " dense_10 (Dense)            (None, 16)                528       \n",
            "                                                                 \n",
            " dense_11 (Dense)            (None, 16)                272       \n",
            "                                                                 \n",
            "=================================================================\n",
            "Total params: 391,386\n",
            "Trainable params: 391,118\n",
            "Non-trainable params: 268\n",
            "_________________________________________________________________\n"
          ]
        }
      ]
    },
    {
      "cell_type": "code",
      "source": [
        "model.compile(optimizer='adam',loss='categorical_crossentropy',metrics=['accuracy'])"
      ],
      "metadata": {
        "id": "r3TOWdjHwbWI"
      },
      "execution_count": 38,
      "outputs": []
    },
    {
      "cell_type": "code",
      "source": [
        "# Early stopping\n",
        "from tensorflow.keras.callbacks import EarlyStopping"
      ],
      "metadata": {
        "id": "cEh0Y1XVwgkh"
      },
      "execution_count": 39,
      "outputs": []
    },
    {
      "cell_type": "code",
      "source": [
        "early_stop = EarlyStopping(monitor='accuracy',patience=8)"
      ],
      "metadata": {
        "id": "oMPnm23UwjQH"
      },
      "execution_count": 40,
      "outputs": []
    },
    {
      "cell_type": "code",
      "source": [
        "model.fit(train,batch_size=32,validation_data=test,epochs=50,callbacks=early_stop)"
      ],
      "metadata": {
        "colab": {
          "base_uri": "https://localhost:8080/"
        },
        "id": "_auQy0UXwnee",
        "outputId": "95564fe5-8dd7-4a1e-e082-dfcb8786cc8c"
      },
      "execution_count": 42,
      "outputs": [
        {
          "output_type": "stream",
          "name": "stdout",
          "text": [
            "Epoch 1/50\n",
            "19/19 [==============================] - 90s 5s/step - loss: 2.7975 - accuracy: 0.1800 - val_loss: 2.8250 - val_accuracy: 0.0955\n",
            "Epoch 2/50\n",
            "19/19 [==============================] - 85s 5s/step - loss: 2.5313 - accuracy: 0.2467 - val_loss: 2.8952 - val_accuracy: 0.0955\n",
            "Epoch 3/50\n",
            "19/19 [==============================] - 84s 5s/step - loss: 2.2976 - accuracy: 0.2800 - val_loss: 2.9834 - val_accuracy: 0.0955\n",
            "Epoch 4/50\n",
            "19/19 [==============================] - 85s 5s/step - loss: 2.2111 - accuracy: 0.2933 - val_loss: 3.1501 - val_accuracy: 0.0955\n",
            "Epoch 5/50\n",
            "19/19 [==============================] - 118s 6s/step - loss: 2.0837 - accuracy: 0.3600 - val_loss: 3.2592 - val_accuracy: 0.0955\n",
            "Epoch 6/50\n",
            "19/19 [==============================] - 119s 6s/step - loss: 2.0387 - accuracy: 0.3933 - val_loss: 3.7086 - val_accuracy: 0.0955\n",
            "Epoch 7/50\n",
            "19/19 [==============================] - 84s 5s/step - loss: 1.9048 - accuracy: 0.4200 - val_loss: 3.5602 - val_accuracy: 0.0764\n",
            "Epoch 8/50\n",
            "19/19 [==============================] - 83s 4s/step - loss: 1.8273 - accuracy: 0.4533 - val_loss: 3.6105 - val_accuracy: 0.1019\n",
            "Epoch 9/50\n",
            "19/19 [==============================] - 85s 5s/step - loss: 1.7301 - accuracy: 0.4933 - val_loss: 4.1602 - val_accuracy: 0.0955\n",
            "Epoch 10/50\n",
            "19/19 [==============================] - 119s 7s/step - loss: 1.6910 - accuracy: 0.4867 - val_loss: 4.4253 - val_accuracy: 0.0955\n",
            "Epoch 11/50\n",
            "19/19 [==============================] - 84s 5s/step - loss: 1.5658 - accuracy: 0.5333 - val_loss: 5.0236 - val_accuracy: 0.0955\n",
            "Epoch 12/50\n",
            "19/19 [==============================] - 84s 5s/step - loss: 1.4910 - accuracy: 0.5600 - val_loss: 4.9304 - val_accuracy: 0.1019\n",
            "Epoch 13/50\n",
            "19/19 [==============================] - 84s 5s/step - loss: 1.5309 - accuracy: 0.5467 - val_loss: 4.3374 - val_accuracy: 0.0955\n",
            "Epoch 14/50\n",
            "19/19 [==============================] - 83s 5s/step - loss: 1.5805 - accuracy: 0.5800 - val_loss: 3.7431 - val_accuracy: 0.1083\n",
            "Epoch 15/50\n",
            "19/19 [==============================] - 83s 4s/step - loss: 1.3715 - accuracy: 0.6467 - val_loss: 3.9156 - val_accuracy: 0.1210\n",
            "Epoch 16/50\n",
            "19/19 [==============================] - 83s 4s/step - loss: 1.2349 - accuracy: 0.6600 - val_loss: 3.8542 - val_accuracy: 0.1083\n",
            "Epoch 17/50\n",
            "19/19 [==============================] - 83s 5s/step - loss: 1.1745 - accuracy: 0.6667 - val_loss: 3.3939 - val_accuracy: 0.0828\n",
            "Epoch 18/50\n",
            "19/19 [==============================] - 82s 5s/step - loss: 1.1095 - accuracy: 0.6933 - val_loss: 4.1116 - val_accuracy: 0.1019\n",
            "Epoch 19/50\n",
            "19/19 [==============================] - 84s 5s/step - loss: 1.0483 - accuracy: 0.7133 - val_loss: 3.7504 - val_accuracy: 0.0892\n",
            "Epoch 20/50\n",
            "19/19 [==============================] - 83s 4s/step - loss: 1.2029 - accuracy: 0.6667 - val_loss: 3.8665 - val_accuracy: 0.1465\n",
            "Epoch 21/50\n",
            "19/19 [==============================] - 83s 4s/step - loss: 0.9872 - accuracy: 0.7000 - val_loss: 3.8588 - val_accuracy: 0.0828\n",
            "Epoch 22/50\n",
            "19/19 [==============================] - 83s 4s/step - loss: 0.9511 - accuracy: 0.7333 - val_loss: 3.5851 - val_accuracy: 0.1338\n",
            "Epoch 23/50\n",
            "19/19 [==============================] - 82s 4s/step - loss: 1.0298 - accuracy: 0.6467 - val_loss: 4.0547 - val_accuracy: 0.0828\n",
            "Epoch 24/50\n",
            "19/19 [==============================] - 85s 5s/step - loss: 0.7744 - accuracy: 0.8133 - val_loss: 4.3538 - val_accuracy: 0.0764\n",
            "Epoch 25/50\n",
            "19/19 [==============================] - 85s 5s/step - loss: 0.8587 - accuracy: 0.7333 - val_loss: 4.1617 - val_accuracy: 0.0892\n",
            "Epoch 26/50\n",
            "19/19 [==============================] - 84s 5s/step - loss: 0.8586 - accuracy: 0.7067 - val_loss: 3.8631 - val_accuracy: 0.1019\n",
            "Epoch 27/50\n",
            "19/19 [==============================] - 86s 5s/step - loss: 0.6718 - accuracy: 0.8000 - val_loss: 3.3826 - val_accuracy: 0.2293\n",
            "Epoch 28/50\n",
            "19/19 [==============================] - 85s 5s/step - loss: 0.6375 - accuracy: 0.8400 - val_loss: 3.8538 - val_accuracy: 0.1401\n",
            "Epoch 29/50\n",
            "19/19 [==============================] - 84s 5s/step - loss: 0.6334 - accuracy: 0.8000 - val_loss: 3.5135 - val_accuracy: 0.1529\n",
            "Epoch 30/50\n",
            "19/19 [==============================] - 83s 5s/step - loss: 0.5362 - accuracy: 0.8267 - val_loss: 3.4455 - val_accuracy: 0.2038\n",
            "Epoch 31/50\n",
            "19/19 [==============================] - 83s 5s/step - loss: 0.5756 - accuracy: 0.8667 - val_loss: 4.0382 - val_accuracy: 0.1401\n",
            "Epoch 32/50\n",
            "19/19 [==============================] - 82s 4s/step - loss: 0.4805 - accuracy: 0.8733 - val_loss: 3.5223 - val_accuracy: 0.1975\n",
            "Epoch 33/50\n",
            "19/19 [==============================] - 83s 4s/step - loss: 0.5540 - accuracy: 0.8533 - val_loss: 3.3028 - val_accuracy: 0.2102\n",
            "Epoch 34/50\n",
            "19/19 [==============================] - 83s 4s/step - loss: 0.4407 - accuracy: 0.8400 - val_loss: 3.6504 - val_accuracy: 0.1720\n",
            "Epoch 35/50\n",
            "19/19 [==============================] - 118s 6s/step - loss: 0.5322 - accuracy: 0.8467 - val_loss: 3.4739 - val_accuracy: 0.2357\n",
            "Epoch 36/50\n",
            "19/19 [==============================] - 85s 5s/step - loss: 0.4023 - accuracy: 0.8933 - val_loss: 3.6037 - val_accuracy: 0.2548\n",
            "Epoch 37/50\n",
            "19/19 [==============================] - 82s 4s/step - loss: 0.3650 - accuracy: 0.9133 - val_loss: 3.3924 - val_accuracy: 0.2739\n",
            "Epoch 38/50\n",
            "19/19 [==============================] - 84s 5s/step - loss: 0.3541 - accuracy: 0.9133 - val_loss: 3.5053 - val_accuracy: 0.1592\n",
            "Epoch 39/50\n",
            "19/19 [==============================] - 82s 4s/step - loss: 0.4802 - accuracy: 0.8733 - val_loss: 3.6352 - val_accuracy: 0.2548\n",
            "Epoch 40/50\n",
            "19/19 [==============================] - 83s 5s/step - loss: 0.4187 - accuracy: 0.8867 - val_loss: 3.2626 - val_accuracy: 0.2930\n",
            "Epoch 41/50\n",
            "19/19 [==============================] - 83s 4s/step - loss: 0.3151 - accuracy: 0.9267 - val_loss: 3.1371 - val_accuracy: 0.2803\n",
            "Epoch 42/50\n",
            "19/19 [==============================] - 84s 5s/step - loss: 0.2450 - accuracy: 0.9533 - val_loss: 3.0650 - val_accuracy: 0.2866\n",
            "Epoch 43/50\n",
            "19/19 [==============================] - 83s 5s/step - loss: 0.2667 - accuracy: 0.9267 - val_loss: 3.1651 - val_accuracy: 0.3185\n",
            "Epoch 44/50\n",
            "19/19 [==============================] - 117s 6s/step - loss: 0.2267 - accuracy: 0.9200 - val_loss: 3.1459 - val_accuracy: 0.3376\n",
            "Epoch 45/50\n",
            "19/19 [==============================] - 83s 4s/step - loss: 0.2713 - accuracy: 0.9400 - val_loss: 3.6000 - val_accuracy: 0.2484\n",
            "Epoch 46/50\n",
            "19/19 [==============================] - 83s 5s/step - loss: 0.2212 - accuracy: 0.9200 - val_loss: 3.7252 - val_accuracy: 0.2293\n",
            "Epoch 47/50\n",
            "19/19 [==============================] - 84s 5s/step - loss: 0.1729 - accuracy: 0.9467 - val_loss: 4.4203 - val_accuracy: 0.2229\n",
            "Epoch 48/50\n",
            "19/19 [==============================] - 83s 4s/step - loss: 0.1903 - accuracy: 0.9467 - val_loss: 3.8517 - val_accuracy: 0.2229\n",
            "Epoch 49/50\n",
            "19/19 [==============================] - 83s 5s/step - loss: 0.2442 - accuracy: 0.9333 - val_loss: 3.5878 - val_accuracy: 0.2548\n",
            "Epoch 50/50\n",
            "19/19 [==============================] - 83s 5s/step - loss: 0.1480 - accuracy: 0.9533 - val_loss: 3.6570 - val_accuracy: 0.2420\n"
          ]
        },
        {
          "output_type": "execute_result",
          "data": {
            "text/plain": [
              "<keras.callbacks.History at 0x7f2291a12890>"
            ]
          },
          "metadata": {},
          "execution_count": 42
        }
      ]
    },
    {
      "cell_type": "markdown",
      "source": [
        "**TESTING THE MODEL**"
      ],
      "metadata": {
        "id": "F0tNbo3ZOklT"
      }
    },
    {
      "cell_type": "code",
      "source": [
        "# Testing 1\n",
        "img1 = image.load_img('/content/test_data/test_data/cmnmyn/DSC_5137.jpg',target_size=(120,120))\n",
        "img1 = image.img_to_array(img1)\n",
        "img1 = np.expand_dims(img1,axis=0)\n",
        "pred = np.argmax(model.predict(img1))\n",
        "print(pred)\n",
        "output = ['blasti','bongel','brhkyt','cbrtsh','cmnmyn','gretit','hilpig','himbul','himgri','hsparo','indvul','jglowl','lbicrw','mgprob','rebimg','wcrsrt']\n",
        "print(output[pred])"
      ],
      "metadata": {
        "colab": {
          "base_uri": "https://localhost:8080/"
        },
        "id": "L2S3iiqKxLNU",
        "outputId": "26695bbb-8669-49c0-fe21-71265a239bf6"
      },
      "execution_count": 55,
      "outputs": [
        {
          "output_type": "stream",
          "name": "stdout",
          "text": [
            "1/1 [==============================] - 0s 20ms/step\n",
            "4\n",
            "cmnmyn\n"
          ]
        }
      ]
    },
    {
      "cell_type": "code",
      "source": [
        "# Testing 2\n",
        "img2 = image.load_img('/content/test_data/test_data/jglowl/_D32_10593.jpg',target_size=(120,120))\n",
        "img2 = image.img_to_array(img2)\n",
        "img2 = np.expand_dims(img2,axis=0)\n",
        "pred = np.argmax(model.predict(img2))\n",
        "print(pred)\n",
        "output = ['blasti','bongel','brhkyt','cbrtsh','cmnmyn','gretit','hilpig','himbul','himgri','hsparo','indvul','jglowl','lbicrw','mgprob','rebimg','wcrsrt']\n",
        "print(output[pred])"
      ],
      "metadata": {
        "colab": {
          "base_uri": "https://localhost:8080/"
        },
        "id": "hoxpgmDAxOWA",
        "outputId": "7962a4fc-e3e4-4421-d749-152d3500bcce"
      },
      "execution_count": 57,
      "outputs": [
        {
          "output_type": "stream",
          "name": "stdout",
          "text": [
            "1/1 [==============================] - 0s 32ms/step\n",
            "9\n",
            "hsparo\n"
          ]
        }
      ]
    },
    {
      "cell_type": "code",
      "source": [
        "# Testing 3\n",
        "img3 = image.load_img('/content/sparrow.jpeg',target_size=(120,120))\n",
        "img3 = image.img_to_array(img3)\n",
        "img3 = np.expand_dims(img3,axis=0)\n",
        "pred = np.argmax(model.predict(img3))\n",
        "print(pred)\n",
        "output = ['blasti','bongel','brhkyt','cbrtsh','cmnmyn','gretit','hilpig','himbul','himgri','hsparo','indvul','jglowl','lbicrw','mgprob','rebimg','wcrsrt']\n",
        "print(output[pred])"
      ],
      "metadata": {
        "colab": {
          "base_uri": "https://localhost:8080/"
        },
        "id": "PHZRn8RVxSXa",
        "outputId": "c4acfac9-5cbe-40ec-da47-1700980cc234"
      },
      "execution_count": 63,
      "outputs": [
        {
          "output_type": "stream",
          "name": "stdout",
          "text": [
            "1/1 [==============================] - 0s 20ms/step\n",
            "14\n",
            "rebimg\n"
          ]
        }
      ]
    },
    {
      "cell_type": "code",
      "source": [
        "# Testing 4\n",
        "img4 = image.load_img('/content/test_data/test_data/lbicrw/IMG_5541.JPG',target_size=(120,120))\n",
        "img4 = image.img_to_array(img4)\n",
        "img4 = np.expand_dims(img4,axis=0)\n",
        "pred = np.argmax(model.predict(img4))\n",
        "print(pred)\n",
        "output = ['blasti','bongel','brhkyt','cbrtsh','cmnmyn','gretit','hilpig','himbul','himgri','hsparo','indvul','jglowl','lbicrw','mgprob','rebimg','wcrsrt']\n",
        "print(output[pred])"
      ],
      "metadata": {
        "colab": {
          "base_uri": "https://localhost:8080/"
        },
        "id": "a1nWAi-cxVmf",
        "outputId": "576223af-a39e-4376-831d-61e88b47819e"
      },
      "execution_count": 73,
      "outputs": [
        {
          "output_type": "stream",
          "name": "stdout",
          "text": [
            "1/1 [==============================] - 0s 20ms/step\n",
            "4\n",
            "cmnmyn\n"
          ]
        }
      ]
    },
    {
      "cell_type": "code",
      "source": [
        "# Testing 5\n",
        "img4 = image.load_img('/content/test_data/test_data/himgri/P1020746.jpg',target_size=(120,120))\n",
        "img4 = image.img_to_array(img4)\n",
        "img4 = np.expand_dims(img4,axis=0)\n",
        "pred = np.argmax(model.predict(img4))\n",
        "print(pred)\n",
        "output = ['blasti','bongel','brhkyt','cbrtsh','cmnmyn','gretit','hilpig','himbul','himgri','hsparo','indvul','jglowl','lbicrw','mgprob','rebimg','wcrsrt']\n",
        "print(output[pred])"
      ],
      "metadata": {
        "colab": {
          "base_uri": "https://localhost:8080/"
        },
        "id": "jyf8eOR8ILai",
        "outputId": "f2dfb1f7-e8a0-4ae0-cddc-2b05efd17c04"
      },
      "execution_count": 77,
      "outputs": [
        {
          "output_type": "stream",
          "name": "stdout",
          "text": [
            "1/1 [==============================] - 0s 20ms/step\n",
            "14\n",
            "rebimg\n"
          ]
        }
      ]
    }
  ]
}